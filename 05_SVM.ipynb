{
 "cells": [
  {
   "cell_type": "code",
   "execution_count": 1,
   "metadata": {},
   "outputs": [
    {
     "name": "stdout",
     "output_type": "stream",
     "text": [
      "['malignant' 'benign']\n",
      "['mean radius' 'mean texture' 'mean perimeter' 'mean area'\n",
      " 'mean smoothness' 'mean compactness' 'mean concavity'\n",
      " 'mean concave points' 'mean symmetry' 'mean fractal dimension'\n",
      " 'radius error' 'texture error' 'perimeter error' 'area error'\n",
      " 'smoothness error' 'compactness error' 'concavity error'\n",
      " 'concave points error' 'symmetry error' 'fractal dimension error'\n",
      " 'worst radius' 'worst texture' 'worst perimeter' 'worst area'\n",
      " 'worst smoothness' 'worst compactness' 'worst concavity'\n",
      " 'worst concave points' 'worst symmetry' 'worst fractal dimension']\n",
      "(569, 30) <class 'numpy.ndarray'>\n",
      "(569,) <class 'numpy.ndarray'>\n"
     ]
    }
   ],
   "source": [
    "from sklearn.datasets import load_breast_cancer\n",
    "from sklearn.preprocessing import MinMaxScaler\n",
    "from sklearn.model_selection import train_test_split\n",
    "from sklearn.svm import SVC\n",
    "from sklearn.metrics import accuracy_score\n",
    "\n",
    "cancer = load_breast_cancer()\n",
    "# print(cancer.keys())\n",
    "print(cancer['target_names'])\n",
    "print(cancer['feature_names'])\n",
    "print(cancer['data'].shape, type(cancer['data']))\n",
    "print(cancer['target'].shape, type(cancer['target']))"
   ]
  },
  {
   "cell_type": "code",
   "execution_count": 2,
   "metadata": {},
   "outputs": [
    {
     "name": "stdout",
     "output_type": "stream",
     "text": [
      "train: (426, 30) (426,)\n",
      "test: (143, 30) (143,)\n"
     ]
    }
   ],
   "source": [
    "X_train, X_test, y_train, y_test = train_test_split(cancer.data, cancer.target, stratify=cancer.target, random_state=2022)\n",
    "print(\"train:\", X_train.shape, y_train.shape)\n",
    "print(\"test:\", X_test.shape, y_test.shape)\n",
    "\n",
    "scaler = MinMaxScaler()\n",
    "scaler.fit(X_train)\n",
    "X_train_norm = scaler.transform(X_train) \n",
    "X_test_norm = scaler.transform(X_test)"
   ]
  },
  {
   "cell_type": "code",
   "execution_count": 3,
   "metadata": {},
   "outputs": [
    {
     "name": "stdout",
     "output_type": "stream",
     "text": [
      "Linear SVM - accuracy on test set: 0.993\n",
      "SVM with polynomial kernel - accuracy on test set: 0.979\n",
      "SVM with RBF kernel - accuracy on test set: 0.972\n"
     ]
    }
   ],
   "source": [
    "# SVM with linear kernel\n",
    "lin_svm = SVC(kernel=\"linear\")\n",
    "lin_svm.fit(X_train_norm, y_train)\n",
    "y_pred = lin_svm.predict(X_test_norm)\n",
    "print(\"Linear SVM - accuracy on test set: {:.3f}\".format(accuracy_score(y_test, y_pred)))\n",
    "\n",
    "# SVM with polynomial kernel\n",
    "poly_svm = SVC(kernel=\"poly\", degree=2)\n",
    "poly_svm.fit(X_train_norm, y_train)\n",
    "y_pred = poly_svm.predict(X_test_norm)\n",
    "print(\"SVM with polynomial kernel - accuracy on test set: {:.3f}\".format(accuracy_score(y_test, y_pred)))\n",
    "\n",
    "# SVM with RBF kernel\n",
    "rbf_svm = SVC(kernel=\"rbf\", gamma=\"auto\")\n",
    "rbf_svm.fit(X_train_norm, y_train)\n",
    "y_pred = rbf_svm.predict(X_test_norm)\n",
    "print(\"SVM with RBF kernel - accuracy on test set: {:.3f}\".format(accuracy_score(y_test, y_pred)))"
   ]
  }
 ],
 "metadata": {
  "interpreter": {
   "hash": "d72038ba609f56e07168d67a6873fc2ea8de8daf9d78f82ea1482421a2aa0b3f"
  },
  "kernelspec": {
   "display_name": "Python 3.7.10 ('myenv')",
   "language": "python",
   "name": "python3"
  },
  "language_info": {
   "codemirror_mode": {
    "name": "ipython",
    "version": 3
   },
   "file_extension": ".py",
   "mimetype": "text/x-python",
   "name": "python",
   "nbconvert_exporter": "python",
   "pygments_lexer": "ipython3",
   "version": "3.7.10"
  },
  "orig_nbformat": 4
 },
 "nbformat": 4,
 "nbformat_minor": 2
}
