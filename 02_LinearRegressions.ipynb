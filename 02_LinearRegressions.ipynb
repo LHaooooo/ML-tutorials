{
 "cells": [
  {
   "cell_type": "code",
   "execution_count": 1,
   "metadata": {},
   "outputs": [],
   "source": [
    "from IPython.display import set_matplotlib_formats, display\n",
    "import pandas as pd\n",
    "import numpy as np\n",
    "import matplotlib.pyplot as plt\n",
    "%matplotlib inline\n",
    "\n",
    "from sklearn.datasets import load_boston\n",
    "from sklearn.preprocessing import MinMaxScaler, PolynomialFeatures\n",
    "from sklearn.model_selection import train_test_split\n",
    "from sklearn.linear_model import LinearRegression, Ridge, Lasso"
   ]
  },
  {
   "cell_type": "markdown",
   "metadata": {},
   "source": [
    "## Linear Regression"
   ]
  },
  {
   "cell_type": "code",
   "execution_count": 2,
   "metadata": {},
   "outputs": [
    {
     "name": "stdout",
     "output_type": "stream",
     "text": [
      "train: (75, 1) (75,)\n",
      "test: (25, 1) (25,)\n",
      "w: [0.89595497], b: 0.05924948767021938\n",
      "R^2 on training set: 0.82\n",
      "R^2 on test set: 0.78\n"
     ]
    }
   ],
   "source": [
    "# Dummy dats\n",
    "# It has a single input feature and a numeric target variable\n",
    "rnd = np.random.RandomState(2022)\n",
    "x = rnd.uniform(-3, 3, size=100)\n",
    "y = (np.sin(4 * x) + x) + rnd.normal(size=len(x)) / 2\n",
    "X = x.reshape(-1, 1)\n",
    "# plt.figure()\n",
    "# plt.plot(X,y,'o')\n",
    "# plt.xlim(-4,4)\n",
    "# plt.xlabel(\"x\")\n",
    "# plt.ylabel(\"y\")\n",
    "# plt.show()\n",
    "\n",
    "X_train, X_test, y_train, y_test = train_test_split(X, y, random_state=2022)\n",
    "print(\"train:\", X_train.shape, y_train.shape)\n",
    "print(\"test:\", X_test.shape, y_test.shape)\n",
    "\n",
    "lr = LinearRegression().fit(X_train, y_train)\n",
    "print(f\"w: {lr.coef_}, b: {lr.intercept_}\")\n",
    "\n",
    "print(\"R^2 on training set: {:.2f}\".format(lr.score(X_train, y_train)))\n",
    "print(\"R^2 on test set: {:.2f}\".format(lr.score(X_test, y_test)))"
   ]
  },
  {
   "cell_type": "markdown",
   "metadata": {},
   "source": [
    "## Polynomial Regression"
   ]
  },
  {
   "cell_type": "code",
   "execution_count": 3,
   "metadata": {},
   "outputs": [
    {
     "name": "stdout",
     "output_type": "stream",
     "text": [
      "['CRIM' 'ZN' 'INDUS' 'CHAS' 'NOX' 'RM' 'AGE' 'DIS' 'RAD' 'TAX' 'PTRATIO'\n",
      " 'B' 'LSTAT']\n",
      "(506, 13) <class 'numpy.ndarray'>\n",
      "(506,) <class 'numpy.ndarray'>\n",
      "train: (379, 104) (379,)\n",
      "test: (127, 104) (127,)\n",
      "R^2 on training set: 0.94\n",
      "R^2 on test set: 0.81\n"
     ]
    }
   ],
   "source": [
    "\n",
    "boston = load_boston()\n",
    "# print(boston.keys())\n",
    "print(boston['feature_names'])\n",
    "print(boston['data'].shape, type(boston['data']))\n",
    "print(boston['target'].shape, type(boston['target']))\n",
    "\n",
    "X = boston.data\n",
    "X = MinMaxScaler().fit_transform(boston.data)\n",
    "X = PolynomialFeatures(degree=2, include_bias=False).fit_transform(X)\n",
    "y = boston.target\n",
    "\n",
    "X_train, X_test, y_train, y_test = train_test_split(X, y, random_state=2022)\n",
    "print(\"train:\", X_train.shape, y_train.shape)\n",
    "print(\"test:\", X_test.shape, y_test.shape)\n",
    "\n",
    "lr = LinearRegression().fit(X_train, y_train)\n",
    "print(\"R^2 on training set: {:.2f}\".format(lr.score(X_train, y_train)))\n",
    "print(\"R^2 on test set: {:.2f}\".format(lr.score(X_test, y_test)))"
   ]
  },
  {
   "cell_type": "markdown",
   "metadata": {},
   "source": [
    "## Ridge Regression"
   ]
  },
  {
   "cell_type": "code",
   "execution_count": 4,
   "metadata": {},
   "outputs": [
    {
     "name": "stdout",
     "output_type": "stream",
     "text": [
      "R^2 on training set: 0.87\n",
      "R^2 on test set: 0.81\n"
     ]
    }
   ],
   "source": [
    "ridge = Ridge().fit(X_train, y_train)\n",
    "print(\"R^2 on training set: {:.2f}\".format(ridge.score(X_train, y_train)))\n",
    "print(\"R^2 on test set: {:.2f}\".format(ridge.score(X_test, y_test)))"
   ]
  },
  {
   "cell_type": "code",
   "execution_count": 5,
   "metadata": {},
   "outputs": [
    {
     "name": "stdout",
     "output_type": "stream",
     "text": [
      "R^2 on training set: 0.77\n",
      "R^2 on test set: 0.75\n"
     ]
    }
   ],
   "source": [
    "#alpha=10\n",
    "ridge10 = Ridge(alpha=10).fit(X_train, y_train)\n",
    "print(\"R^2 on training set: {:.2f}\".format(ridge10.score(X_train, y_train)))\n",
    "print(\"R^2 on test set: {:.2f}\".format(ridge10.score(X_test, y_test)))"
   ]
  },
  {
   "cell_type": "code",
   "execution_count": 6,
   "metadata": {},
   "outputs": [
    {
     "name": "stdout",
     "output_type": "stream",
     "text": [
      "R^2 on training set: 0.94\n",
      "R^2 on test set: 0.81\n"
     ]
    }
   ],
   "source": [
    "#alpha=0.01\n",
    "ridge001 = Ridge(alpha=0.01).fit(X_train, y_train)\n",
    "print(\"R^2 on training set: {:.2f}\".format(ridge001.score(X_train, y_train)))\n",
    "print(\"R^2 on test set: {:.2f}\".format(ridge001.score(X_test, y_test)))"
   ]
  },
  {
   "cell_type": "markdown",
   "metadata": {},
   "source": [
    "## Lasso Regression"
   ]
  },
  {
   "cell_type": "code",
   "execution_count": 7,
   "metadata": {},
   "outputs": [
    {
     "name": "stdout",
     "output_type": "stream",
     "text": [
      "R^2 on training set: 0.21\n",
      "R^2 on test set: 0.22\n",
      "Number of features used: 4\n"
     ]
    }
   ],
   "source": [
    "lasso = Lasso().fit(X_train, y_train)\n",
    "print(\"R^2 on training set: {:.2f}\".format(lasso.score(X_train, y_train)))\n",
    "print(\"R^2 on test set: {:.2f}\".format(lasso.score(X_test, y_test)))\n",
    "print(\"Number of features used:\", np.sum(lasso.coef_ != 0))"
   ]
  },
  {
   "cell_type": "code",
   "execution_count": 8,
   "metadata": {},
   "outputs": [
    {
     "name": "stdout",
     "output_type": "stream",
     "text": [
      "R^2 on training set: 0.89\n",
      "R^2 on test set: 0.78\n",
      "Number of features used: 30\n"
     ]
    }
   ],
   "source": [
    "# alpha=0.01\n",
    "lasso001 = Lasso(alpha=0.01, max_iter=100000).fit(X_train, y_train)\n",
    "print(\"R^2 on training set: {:.2f}\".format(lasso001.score(X_train, y_train)))\n",
    "print(\"R^2 on test set: {:.2f}\".format(lasso001.score(X_test, y_test)))\n",
    "print(\"Number of features used:\", np.sum(lasso001.coef_ != 0))"
   ]
  },
  {
   "cell_type": "code",
   "execution_count": 9,
   "metadata": {},
   "outputs": [
    {
     "name": "stdout",
     "output_type": "stream",
     "text": [
      "R^2 on training set: 0.94\n",
      "R^2 on test set: 0.82\n",
      "Number of features used: 96\n"
     ]
    }
   ],
   "source": [
    "# alpha=0.0001\n",
    "lasso00001 = Lasso(alpha=0.0001, max_iter=100000).fit(X_train, y_train)\n",
    "print(\"R^2 on training set: {:.2f}\".format(lasso00001.score(X_train, y_train)))\n",
    "print(\"R^2 on test set: {:.2f}\".format(lasso00001.score(X_test, y_test)))\n",
    "print(\"Number of features used:\", np.sum(lasso00001.coef_ != 0))"
   ]
  }
 ],
 "metadata": {
  "interpreter": {
   "hash": "d72038ba609f56e07168d67a6873fc2ea8de8daf9d78f82ea1482421a2aa0b3f"
  },
  "kernelspec": {
   "display_name": "Python 3.7.10 64-bit ('myenv': conda)",
   "language": "python",
   "name": "python3"
  },
  "language_info": {
   "codemirror_mode": {
    "name": "ipython",
    "version": 3
   },
   "file_extension": ".py",
   "mimetype": "text/x-python",
   "name": "python",
   "nbconvert_exporter": "python",
   "pygments_lexer": "ipython3",
   "version": "3.7.10"
  },
  "orig_nbformat": 4
 },
 "nbformat": 4,
 "nbformat_minor": 2
}
